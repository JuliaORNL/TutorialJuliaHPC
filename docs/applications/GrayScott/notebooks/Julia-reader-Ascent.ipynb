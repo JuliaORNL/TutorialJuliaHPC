{
 "cells": [
  {
   "cell_type": "markdown",
   "id": "ded66bb8-70a7-4008-8eec-cb70f47821e2",
   "metadata": {},
   "source": [
    "## Reading and plotting an ADIOS2 File in Julia"
   ]
  },
  {
   "cell_type": "code",
   "execution_count": null,
   "id": "99a7459b-33ad-471d-8c4f-aae8dbecbaae",
   "metadata": {},
   "outputs": [],
   "source": [
    "import ADIOS2\n",
    "import CairoMakie\n",
    "\n",
    "bp_file = \"/gpfs/wolf/proj-shared/trn017/wfg/runs/run001/gs-julia-1MPI-64L-F32.bp\"\n",
    "\n",
    "adios = ADIOS2.adios_init_serial()\n",
    "io = ADIOS2.declare_io(adios, \"reader\")\n",
    "reader = ADIOS2.open(io, bp_file, ADIOS2.mode_read)\n",
    "\n",
    "npixels = 32\n",
    "\n",
    "# Grid is 128x128x128. Use Tuples () for selection\\n\",\n",
    "start = (         16,       16,  32 )\n",
    "count = (   npixels,  npixels,  1 )\n",
    "    \n",
    "sliceU = Array{Float32, 2}(undef, npixels, npixels)\n",
    "sliceV = Array{Float32, 2}(undef, npixels, npixels)\n",
    "    \n",
    "steps = ADIOS2.steps(reader)\n",
    "println(\"total steps: \", steps)\n",
    "    \n",
    "for step in 1:steps\n",
    "\n",
    "    \n",
    "    ADIOS2.begin_step(reader)\n",
    "    \n",
    "    # These U,V specific lines can be refactored into a function\n",
    "    varU = ADIOS2.inquire_variable(io, \"U\")\n",
    "    @assert varU isa ADIOS2.Variable string(\"Could not find variable U\")\n",
    "    ADIOS2.set_selection(varU, start, count)\n",
    "        \n",
    "    varV = ADIOS2.inquire_variable(io, \"V\")\n",
    "    @assert varU isa ADIOS2.Variable string(\"Could not find variable V\")\n",
    "    ADIOS2.set_selection(varV, start, count)\n",
    "        \n",
    "    ADIOS2.get(reader, varU, sliceU)\n",
    "    ADIOS2.get(reader, varV, sliceV)\n",
    "    \n",
    "    # varU, varV are NOT populated (deferred mode)\n",
    "    ADIOS2.end_step(reader)\n",
    "    # varU, varV are populated\n",
    "    \n",
    "    # Now plot\n",
    "    if step % 10 == 0\n",
    "        println(\"Showing step\", step )\n",
    "        f = CairoMakie.Figure()\n",
    "        CairoMakie.heatmap(f[1,1], sliceU)\n",
    "        CairoMakie.heatmap(f[1,2], sliceV),\n",
    "        display(f)\n",
    "        # Save each step figure U,V pair in pdf format    \n",
    "        CairoMakie.save(string(\"U_V_\",step,\".pdf\"), f)\n",
    "    end\n",
    "end\n",
    "    \n",
    "ADIOS2.close(reader)\n",
    "ADIOS2.adios_finalize(adios)\n"
   ]
  }
 ],
 "metadata": {
  "kernelspec": {
   "display_name": "Julia (16 threads) 1.9.0",
   "language": "julia",
   "name": "julia-_16-threads_-1.9"
  },
  "language_info": {
   "file_extension": ".jl",
   "mimetype": "application/julia",
   "name": "julia",
   "version": "1.9.0"
  }
 },
 "nbformat": 4,
 "nbformat_minor": 5
}
